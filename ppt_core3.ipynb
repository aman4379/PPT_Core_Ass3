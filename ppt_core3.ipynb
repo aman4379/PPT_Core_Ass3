{
 "cells": [
  {
   "cell_type": "markdown",
   "metadata": {},
   "source": [
    "\n",
    "1. Scenario: A company wants to analyze the sales performance of its products in different regions. They have collected the following data:                                                                                 \n",
    "   Region A: [10, 15, 12, 8, 14]                                                                      \n",
    "   Region B: [18, 20, 16, 22, 25]                                                                               \n",
    "   Calculate the mean sales for each region.\n"
   ]
  },
  {
   "cell_type": "code",
   "execution_count": 1,
   "metadata": {},
   "outputs": [
    {
     "name": "stdout",
     "output_type": "stream",
     "text": [
      "11.8\n",
      "20.2\n"
     ]
    }
   ],
   "source": [
    "import numpy as np\n",
    "RegionA = [10, 15, 12, 8, 14]\n",
    "RegionB = [18, 20, 16, 22, 25]\n",
    "print(np.mean(RegionA))\n",
    "print(np.mean(RegionB))"
   ]
  },
  {
   "cell_type": "markdown",
   "metadata": {},
   "source": [
    "2. Scenario: A survey is conducted to measure customer satisfaction on a scale of 1 to 5. The data collected is as follows:                                                                                                        \n",
    "   [4, 5, 2, 3, 5, 4, 3, 2, 4, 5]                                                                     \n",
    "   Calculate the mode of the survey responses.\n"
   ]
  },
  {
   "cell_type": "code",
   "execution_count": 2,
   "metadata": {},
   "outputs": [
    {
     "name": "stdout",
     "output_type": "stream",
     "text": [
      "4\n"
     ]
    }
   ],
   "source": [
    "import statistics\n",
    "data = [4, 5, 2, 3, 5, 4, 3, 2, 4, 5]\n",
    "print(statistics.mode(data))"
   ]
  },
  {
   "cell_type": "markdown",
   "metadata": {},
   "source": [
    "3. Scenario: A company wants to compare the salaries of two departments. The salary data for Department A and Department B are as follows:\n",
    "   Department A: [5000, 6000, 5500, 7000]                                                                    \n",
    "   Department B: [4500, 5500, 5800, 6000, 5200]                                                                \n",
    "   Calculate the median salary for each department.                                                             "
   ]
  },
  {
   "cell_type": "code",
   "execution_count": 3,
   "metadata": {},
   "outputs": [
    {
     "name": "stdout",
     "output_type": "stream",
     "text": [
      "5750.0\n",
      "5500\n"
     ]
    }
   ],
   "source": [
    "DepartmentA = [5000, 6000, 5500, 7000]\n",
    "DepartmentB = [4500, 5500, 5800, 6000, 5200]\n",
    "print(statistics.median(DepartmentA))\n",
    "print(statistics.median(DepartmentB))"
   ]
  },
  {
   "cell_type": "markdown",
   "metadata": {},
   "source": [
    "4. Scenario: A data analyst wants to determine the variability in the daily stock prices of a company. The data collected is as follows:\n",
    "   [25.5, 24.8, 26.1, 25.3, 24.9]                                                                            \n",
    "   Calculate the range of the stock prices.                                                                    "
   ]
  },
  {
   "cell_type": "code",
   "execution_count": 4,
   "metadata": {},
   "outputs": [
    {
     "name": "stdout",
     "output_type": "stream",
     "text": [
      "0.2720000000000007\n"
     ]
    }
   ],
   "source": [
    "data=[25.5, 24.8, 26.1, 25.3, 24.9]\n",
    "print(statistics.variance(data))"
   ]
  },
  {
   "cell_type": "markdown",
   "metadata": {},
   "source": [
    "5. Scenario: A study is conducted to compare the performance of two different teaching methods. The test scores of the students in each group are as follows:                                                                        \n",
    "   Group A: [85, 90, 92, 88, 91]                                                                                  \n",
    "   Group B: [82, 88, 90, 86, 87]                                                                                        \n",
    "   Perform a t-test to determine if there is a significant difference in the mean scores between the two groups."
   ]
  },
  {
   "cell_type": "code",
   "execution_count": 5,
   "metadata": {},
   "outputs": [
    {
     "data": {
      "text/plain": [
       "0.01909145761992171"
      ]
     },
     "execution_count": 5,
     "metadata": {},
     "output_type": "execute_result"
    }
   ],
   "source": [
    "import math\n",
    "def squaresum(list):\n",
    "    sm=0\n",
    "    for i in list:\n",
    "        sm += i*i\n",
    "    return sm\n",
    "def sumsquare(list):\n",
    "    sm=0\n",
    "    for i in list:\n",
    "        sm+=i\n",
    "    return sm*sm\n",
    "GroupA = [85, 90, 92, 88, 91]\n",
    "GroupB = [82, 88, 90, 86, 87]\n",
    "m1 = np.mean(GroupA)\n",
    "m2 = np.mean(GroupB)\n",
    "Na= len(GroupA)\n",
    "Nb = len(GroupB)\n",
    "df = (Na-1)+(Nb-1)\n",
    "A2 = sumsquare(GroupA)\n",
    "B2 = sumsquare(GroupB)\n",
    "S2A = squaresum(GroupA)\n",
    "S2B = squaresum(GroupB)\n",
    "T = (m1-m2)/math.sqrt((1/Na+1/Nb)*((A2-S2A/Na)+(B2-S2B/Nb))*(1/df))\n",
    "T"
   ]
  },
  {
   "cell_type": "markdown",
   "metadata": {},
   "source": [
    "6. Scenario: A company wants to analyze the relationship between advertising expenditure and sales. The data collected is as follows:\n",
    "   Advertising Expenditure (in thousands): [10, 15, 12, 8, 14]                                                   \n",
    "   Sales (in thousands): [25, 30, 28, 20, 26]                                                               \n",
    "   Calculate the correlation coefficient between advertising expenditure and sales.                            "
   ]
  },
  {
   "cell_type": "code",
   "execution_count": 14,
   "metadata": {},
   "outputs": [
    {
     "name": "stdout",
     "output_type": "stream",
     "text": [
      "[[1.         0.87575114]\n",
      " [0.87575114 1.        ]]\n"
     ]
    }
   ],
   "source": [
    "Expenditure = [10, 15, 12, 8, 14]\n",
    "Sales = [25, 30, 28, 20, 26]\n",
    "print(np.corrcoef(Expenditure,Sales))"
   ]
  },
  {
   "cell_type": "markdown",
   "metadata": {},
   "source": [
    "7. Scenario: A survey is conducted to measure the heights of a group of people. The data collected is as follows:   \n",
    "   [160, 170, 165, 155, 175, 180, 170]                                                                     \n",
    "   Calculate the standard deviation of the heights.                                                       "
   ]
  },
  {
   "cell_type": "code",
   "execution_count": 11,
   "metadata": {},
   "outputs": [
    {
     "data": {
      "text/plain": [
       "8.591246929842246"
      ]
     },
     "execution_count": 11,
     "metadata": {},
     "output_type": "execute_result"
    }
   ],
   "source": [
    "data = [160, 170, 165, 155, 175, 180, 170]\n",
    "statistics.stdev(data)"
   ]
  },
  {
   "cell_type": "markdown",
   "metadata": {},
   "source": [
    "8. Scenario: A company wants to analyze the relationship between employee tenure and job satisfaction. The data collected is as follows:                  \n",
    "   Employee Tenure (in years): [2, 3, 5, 4, 6, 2, 4]                                                                                              \n",
    "   Job Satisfaction (on a scale of 1 to 10): [7, 8, 6, 9, 5, 7, 6]                                                                              \n",
    "   Perform a linear regression analysis to predict job satisfaction based on employee tenure.                                               \n"
   ]
  },
  {
   "cell_type": "code",
   "execution_count": 45,
   "metadata": {},
   "outputs": [],
   "source": [
    "import pandas as pd\n",
    "X1 = [2, 3, 5, 4, 6, 2, 4]\n",
    "y1= [7, 8, 6, 9, 5, 7, 6]\n",
    "df = pd.DataFrame()\n",
    "df['x1'] = X1\n",
    "df['y1'] = y1\n",
    "X = df.drop('y1',axis =1)\n",
    "y = df['y1']"
   ]
  },
  {
   "cell_type": "code",
   "execution_count": 46,
   "metadata": {},
   "outputs": [],
   "source": [
    "from sklearn.model_selection import train_test_split\n",
    "X_train,X_test,y_train,y_test = train_test_split(X,y,test_size=0.3,random_state=42)"
   ]
  },
  {
   "cell_type": "code",
   "execution_count": 47,
   "metadata": {},
   "outputs": [
    {
     "data": {
      "text/plain": [
       "((4, 1), (3, 1))"
      ]
     },
     "execution_count": 47,
     "metadata": {},
     "output_type": "execute_result"
    }
   ],
   "source": [
    "X_train.shape,X_test.shape"
   ]
  },
  {
   "cell_type": "code",
   "execution_count": 48,
   "metadata": {},
   "outputs": [],
   "source": [
    "from sklearn.preprocessing import StandardScaler\n",
    "scaler = StandardScaler()\n",
    "X_train_scaled = scaler.fit_transform(X_train)\n",
    "X_test_scaled = scaler.transform(X_test)"
   ]
  },
  {
   "cell_type": "code",
   "execution_count": 49,
   "metadata": {},
   "outputs": [
    {
     "data": {
      "text/plain": [
       "array([[ 0.30151134],\n",
       "       [ 1.50755672],\n",
       "       [-0.90453403],\n",
       "       [-0.90453403]])"
      ]
     },
     "execution_count": 49,
     "metadata": {},
     "output_type": "execute_result"
    }
   ],
   "source": [
    "X_train_scaled"
   ]
  },
  {
   "cell_type": "code",
   "execution_count": 52,
   "metadata": {},
   "outputs": [
    {
     "name": "stdout",
     "output_type": "stream",
     "text": [
      "Mean absolute error 2.242424242424242\n",
      "R2 Score -26.79338842975206\n"
     ]
    }
   ],
   "source": [
    "## Linerar Regression Model\n",
    "from sklearn.linear_model import LinearRegression\n",
    "from sklearn.metrics import mean_absolute_error\n",
    "from sklearn.metrics import r2_score\n",
    "linreg=LinearRegression()\n",
    "linreg.fit(X_train_scaled,y_train)\n",
    "y_pred=linreg.predict(X_test_scaled)\n",
    "mae=mean_absolute_error(y_test,y_pred)\n",
    "score=r2_score(y_test,y_pred)\n",
    "print(\"Mean absolute error\", mae)\n",
    "print(\"R2 Score\", score)"
   ]
  },
  {
   "cell_type": "markdown",
   "metadata": {},
   "source": [
    "9. Scenario: A study is conducted to compare the effectiveness of two different medications. The recovery times of the patients in each group are as follows:                                                              \n",
    "   Medication A: [10, 12, 14, 11, 13]                                                                       \n",
    "   Medication B: [15, 17, 16, 14, 18]                                                                      \n",
    "   Perform an analysis of variance (ANOVA) to determine if there is a significant difference in the mean  recovery times between the two medications.\n"
   ]
  },
  {
   "cell_type": "code",
   "execution_count": 53,
   "metadata": {},
   "outputs": [
    {
     "data": {
      "text/plain": [
       "F_onewayResult(statistic=16.0, pvalue=0.003949772803445326)"
      ]
     },
     "execution_count": 53,
     "metadata": {},
     "output_type": "execute_result"
    }
   ],
   "source": [
    "from scipy.stats import f_oneway\n",
    "MedicationA = [10, 12, 14, 11, 13]\n",
    "MedicationB = [15, 17, 16, 14, 18]\n",
    "f_oneway(MedicationA,MedicationB)"
   ]
  },
  {
   "cell_type": "markdown",
   "metadata": {},
   "source": [
    "10. Scenario: A company wants to analyze customer feedback ratings on a scale of 1 to 10. The data collected is\n",
    " as follows:                                                                                                 \n",
    "    [8, 9, 7, 6, 8, 10, 9, 8, 7, 8]                                                                         \n",
    "    Calculate the 75th percentile of the feedback ratings.\n"
   ]
  },
  {
   "cell_type": "code",
   "execution_count": 54,
   "metadata": {},
   "outputs": [
    {
     "data": {
      "text/plain": [
       "8.75"
      ]
     },
     "execution_count": 54,
     "metadata": {},
     "output_type": "execute_result"
    }
   ],
   "source": [
    "import numpy as np\n",
    "list = [8, 9, 7, 6, 8, 10, 9, 8, 7, 8]\n",
    "np.percentile(list,75)"
   ]
  },
  {
   "cell_type": "markdown",
   "metadata": {},
   "source": [
    "11. Scenario: A quality control department wants to test the weight consistency of a product. The weights of a sample of products are as follows:                                                                         \n",
    "    [10.2, 9.8, 10.0, 10.5, 10.3, 10.1]                                                                     \n",
    "    Perform a hypothesis test to determine if the mean weight differs significantly from 10 grams.\n"
   ]
  },
  {
   "cell_type": "code",
   "execution_count": 2,
   "metadata": {},
   "outputs": [
    {
     "name": "stdout",
     "output_type": "stream",
     "text": [
      "[1.51265845] [0.19077595]\n"
     ]
    }
   ],
   "source": [
    "import pandas as pd\n",
    "import scipy.stats as stats\n",
    "df = pd.DataFrame()\n",
    "df['weight'] = [10.2, 9.8, 10.0, 10.5, 10.3, 10.1]\n",
    "t_statistic, p_value = stats.ttest_1samp(a=df, popmean=10)\n",
    "print(t_statistic , p_value)"
   ]
  },
  {
   "cell_type": "markdown",
   "metadata": {},
   "source": [
    "12. Scenario: A company wants to analyze the click-through rates of two different website designs. The number of clicks for each design is as follows:                                                                            \n",
    "    Design A: [100, 120, 110, 90, 95]                                                                               \n",
    "    Design B: [80, 85, 90, 95, 100]                                                                              \n",
    "    Perform a chi-square test to determine if there is a significant difference in the click-through rates between the two designs.\n"
   ]
  },
  {
   "cell_type": "code",
   "execution_count": 5,
   "metadata": {},
   "outputs": [
    {
     "name": "stdout",
     "output_type": "stream",
     "text": [
      "stats 6.110658166925435\n",
      "P value 0.19103526314060293\n",
      "expected  [[ 96.06217617 109.40414508 106.7357513   98.73056995 104.06735751]\n",
      " [ 83.93782383  95.59585492  93.2642487   86.26943005  90.93264249]]\n"
     ]
    }
   ],
   "source": [
    "from scipy.stats import chi2_contingency\n",
    "data = [[100, 120, 110, 90, 95],[80, 85, 90, 95, 100]]\n",
    "stat,p,dof,expected = chi2_contingency(data)\n",
    "print('stats',stat)\n",
    "print('P value',p)\n",
    "print('expected ',expected)"
   ]
  },
  {
   "cell_type": "markdown",
   "metadata": {},
   "source": [
    "13. Scenario: A survey is conducted to measure customer satisfaction with a product on a scale of 1 to 10. The data collected is as follows:                                                                                          \n",
    "    [7, 9, 6, 8, 10, 7, 8, 9, 7, 8]                                                                               \n",
    "    Calculate the 95% confidence interval for the population mean satisfaction score.                       "
   ]
  },
  {
   "cell_type": "code",
   "execution_count": 10,
   "metadata": {},
   "outputs": [
    {
     "name": "stdout",
     "output_type": "stream",
     "text": [
      "upper limit 8.756379378546681\n",
      "lower limit 7.043620621453319\n"
     ]
    }
   ],
   "source": [
    "import numpy as np\n",
    "import math\n",
    "import statistics as stat\n",
    "lst = [7, 9, 6, 8, 10, 7, 8, 9, 7, 8]\n",
    "df = len(lst)-1\n",
    "t_value = 2.262\n",
    "s = stat.stdev(lst)\n",
    "se = s/math.sqrt(len(lst))\n",
    "av = np.mean(lst)\n",
    "upper = av + (se*t_value)\n",
    "lower = av - (se*t_value)\n",
    "print('upper limit',upper)\n",
    "print('lower limit',lower)"
   ]
  },
  {
   "cell_type": "markdown",
   "metadata": {},
   "source": [
    "14. Scenario: A company wants to analyze the effect of temperature on product performance. The data collected is as follows:                                                                                                      \n",
    "    Temperature (in degrees Celsius): [20, 22, 23, 19, 21]                                                     \n",
    "    Performance (on a scale of 1 to 10): [8, 7, 9, 6, 8]                                                         \n",
    "    Perform a simple linear regression to predict performance based on temperature.\n"
   ]
  },
  {
   "cell_type": "code",
   "execution_count": 11,
   "metadata": {},
   "outputs": [],
   "source": [
    "import pandas as pd\n",
    "X1 = [20, 22, 23, 19, 21]\n",
    "y1= [8, 7, 9, 6, 8]\n",
    "df = pd.DataFrame()\n",
    "df['x1'] = X1\n",
    "df['y1'] = y1\n",
    "X = df.drop('y1',axis =1)\n",
    "y = df['y1']"
   ]
  },
  {
   "cell_type": "code",
   "execution_count": 12,
   "metadata": {},
   "outputs": [],
   "source": [
    "from sklearn.model_selection import train_test_split\n",
    "X_train,X_test,y_train,y_test = train_test_split(X,y,test_size=0.3,random_state=42)"
   ]
  },
  {
   "cell_type": "code",
   "execution_count": 13,
   "metadata": {},
   "outputs": [],
   "source": [
    "from sklearn.preprocessing import StandardScaler\n",
    "scaler = StandardScaler()\n",
    "X_train_scaled = scaler.fit_transform(X_train)\n",
    "X_test_scaled = scaler.transform(X_test)"
   ]
  },
  {
   "cell_type": "code",
   "execution_count": 14,
   "metadata": {},
   "outputs": [
    {
     "data": {
      "text/plain": [
       "array([[ 1.37281295],\n",
       "       [-0.39223227],\n",
       "       [-0.98058068]])"
      ]
     },
     "execution_count": 14,
     "metadata": {},
     "output_type": "execute_result"
    }
   ],
   "source": [
    "X_train_scaled"
   ]
  },
  {
   "cell_type": "code",
   "execution_count": 15,
   "metadata": {},
   "outputs": [
    {
     "name": "stdout",
     "output_type": "stream",
     "text": [
      "Mean absolute error 0.8269230769230766\n",
      "R2 Score -3.7603550295857984\n"
     ]
    }
   ],
   "source": [
    "## Linerar Regression Model\n",
    "from sklearn.linear_model import LinearRegression\n",
    "from sklearn.metrics import mean_absolute_error\n",
    "from sklearn.metrics import r2_score\n",
    "linreg=LinearRegression()\n",
    "linreg.fit(X_train_scaled,y_train)\n",
    "y_pred=linreg.predict(X_test_scaled)\n",
    "mae=mean_absolute_error(y_test,y_pred)\n",
    "score=r2_score(y_test,y_pred)\n",
    "print(\"Mean absolute error\", mae)\n",
    "print(\"R2 Score\", score)"
   ]
  },
  {
   "cell_type": "markdown",
   "metadata": {},
   "source": [
    "15. Scenario: A study is conducted to compare the preferences of two groups of participants. The preferences are measured on a Likert scale from 1 to 5. The data collected is as follows:                                 \n",
    "    Group A: [4, 3, 5, 2, 4]                                                                                     \n",
    " Group B: [3, 2, 4, 3, 3]                                                                                    \n",
    "    Perform a Mann-Whitney U test to determine if there is a significant difference in the median preferences between the two groups.\n"
   ]
  },
  {
   "cell_type": "code",
   "execution_count": 17,
   "metadata": {},
   "outputs": [
    {
     "name": "stdout",
     "output_type": "stream",
     "text": [
      "Stats 17.0\n",
      "P_value 0.380836480306712\n"
     ]
    }
   ],
   "source": [
    "from scipy.stats import mannwhitneyu\n",
    "Group1 = [4, 3, 5, 2, 4]\n",
    "Group2 = [3, 2, 4, 3, 3]\n",
    "stat,p_value = mannwhitneyu(Group1,Group2)\n",
    "print('Stats',stat)\n",
    "print('P_value',p_value)"
   ]
  },
  {
   "cell_type": "markdown",
   "metadata": {},
   "source": [
    "16. Scenario: A company wants to analyze the distribution of customer ages. The data collected is as follows:       \n",
    "    [25, 30, 35, 40, 45, 50, 55, 60, 65, 70]                                                                      \n",
    "    Calculate the interquartile range (IQR) of the ages.\n"
   ]
  },
  {
   "cell_type": "code",
   "execution_count": 18,
   "metadata": {},
   "outputs": [
    {
     "name": "stdout",
     "output_type": "stream",
     "text": [
      "Interquartile Range 22.5\n"
     ]
    }
   ],
   "source": [
    "import numpy as np\n",
    "lst = [25, 30, 35, 40, 45, 50, 55, 60, 65, 70]\n",
    "Q1= np.percentile(lst,25)\n",
    "Q3 = np.percentile(lst,75)\n",
    "IQR = Q3-Q1\n",
    "print('Interquartile Range',IQR)"
   ]
  },
  {
   "cell_type": "markdown",
   "metadata": {},
   "source": [
    "17. Scenario: A study is conducted to compare the performance of three different machine learning algorithms. The accuracy scores for each algorithm are as follows:                                                                 \n",
    "    Algorithm A: [0.85, 0.80, 0.82, 0.87, 0.83]                                                                    \n",
    "    Algorithm B: [0.78, 0.82, 0.84, 0.80, 0.79]                                                                    \n",
    "    Algorithm C: [0.90, 0.88, 0.89, 0.86, 0.87]                                                                     \n",
    "    Perform a Kruskal-Wallis test to determine if there is a significant difference in the median accuracy scores between the algorithms.\n"
   ]
  },
  {
   "cell_type": "code",
   "execution_count": 19,
   "metadata": {},
   "outputs": [
    {
     "data": {
      "text/plain": [
       "KruskalResult(statistic=9.696947935368053, pvalue=0.007840333026249539)"
      ]
     },
     "execution_count": 19,
     "metadata": {},
     "output_type": "execute_result"
    }
   ],
   "source": [
    "from scipy import stats\n",
    "AlgorithmA = [0.85, 0.80, 0.82, 0.87, 0.83]\n",
    "AlgorithmB = [0.78, 0.82, 0.84, 0.80, 0.79]\n",
    "AlgorithmC = [0.90, 0.88, 0.89, 0.86, 0.87]\n",
    "result = stats.kruskal(AlgorithmA,AlgorithmB,AlgorithmC)\n",
    "result"
   ]
  },
  {
   "cell_type": "markdown",
   "metadata": {},
   "source": [
    "18. Scenario: A company wants to analyze the effect of price on sales. The data collected is as follows:          \n",
    "    Price (in dollars): [10, 15, 12, 8, 14]                                                                      \n",
    "    Sales: [100, 80, 90, 110, 95]                                                                                \n",
    "    Perform a simple linear regression to predict\n",
    " sales based on price.\n"
   ]
  },
  {
   "cell_type": "code",
   "execution_count": 20,
   "metadata": {},
   "outputs": [],
   "source": [
    "import pandas as pd\n",
    "X1 =  [10, 15, 12, 8, 14]\n",
    "y1=  [100, 80, 90, 110, 95]\n",
    "df = pd.DataFrame()\n",
    "df['x1'] = X1\n",
    "df['y1'] = y1\n",
    "X = df.drop('y1',axis =1)\n",
    "y = df['y1']"
   ]
  },
  {
   "cell_type": "code",
   "execution_count": 21,
   "metadata": {},
   "outputs": [],
   "source": [
    "from sklearn.model_selection import train_test_split\n",
    "X_train,X_test,y_train,y_test = train_test_split(X,y,test_size=0.3,random_state=42)"
   ]
  },
  {
   "cell_type": "code",
   "execution_count": 22,
   "metadata": {},
   "outputs": [],
   "source": [
    "from sklearn.preprocessing import StandardScaler\n",
    "scaler = StandardScaler()\n",
    "X_train_scaled = scaler.fit_transform(X_train)\n",
    "X_test_scaled = scaler.transform(X_test)"
   ]
  },
  {
   "cell_type": "code",
   "execution_count": 23,
   "metadata": {},
   "outputs": [
    {
     "data": {
      "text/plain": [
       "array([[ 1.22474487],\n",
       "       [ 0.        ],\n",
       "       [-1.22474487]])"
      ]
     },
     "execution_count": 23,
     "metadata": {},
     "output_type": "execute_result"
    }
   ],
   "source": [
    "X_train_scaled"
   ]
  },
  {
   "cell_type": "code",
   "execution_count": 24,
   "metadata": {},
   "outputs": [
    {
     "name": "stdout",
     "output_type": "stream",
     "text": [
      "Mean absolute error 10.0\n",
      "R2 Score -1.2222222222222223\n"
     ]
    }
   ],
   "source": [
    "## Linerar Regression Model\n",
    "from sklearn.linear_model import LinearRegression\n",
    "from sklearn.metrics import mean_absolute_error\n",
    "from sklearn.metrics import r2_score\n",
    "linreg=LinearRegression()\n",
    "linreg.fit(X_train_scaled,y_train)\n",
    "y_pred=linreg.predict(X_test_scaled)\n",
    "mae=mean_absolute_error(y_test,y_pred)\n",
    "score=r2_score(y_test,y_pred)\n",
    "print(\"Mean absolute error\", mae)\n",
    "print(\"R2 Score\", score)"
   ]
  },
  {
   "cell_type": "markdown",
   "metadata": {},
   "source": [
    "19. Scenario: A survey is conducted to measure the satisfaction levels of customers with a new product. The data collected is as follows:                                                                                      \n",
    "    [7, 8, 9, 6, 8, 7, 9, 7, 8, 7]                                                                               \n",
    "    Calculate the standard error of the mean satisfaction score.\n"
   ]
  },
  {
   "cell_type": "code",
   "execution_count": 27,
   "metadata": {},
   "outputs": [
    {
     "data": {
      "text/plain": [
       "0.30550504633038933"
      ]
     },
     "execution_count": 27,
     "metadata": {},
     "output_type": "execute_result"
    }
   ],
   "source": [
    "from scipy.stats import sem\n",
    "data = [7, 8, 9, 6, 8, 7, 9, 7, 8, 7]\n",
    "result = sem(data)\n",
    "result"
   ]
  },
  {
   "cell_type": "markdown",
   "metadata": {},
   "source": [
    "20. Scenario: A company wants to analyze the relationship between advertising expenditure and sales. The data collected is as follows:                                                                                       \n",
    "    Advertising Expenditure (in thousands): [10, 15, 12, 8, 14]                                                    \n",
    "    Sales (in thousands): [25, 30, 28, 20, 26]                                                                    \n",
    "    Perform a multiple regression analysis to predict sales based on advertising expenditure.            \n"
   ]
  },
  {
   "cell_type": "code",
   "execution_count": 28,
   "metadata": {},
   "outputs": [],
   "source": [
    "import pandas as pd\n",
    "X1 =  [10, 15, 12, 8, 14]\n",
    "y1=   [25, 30, 28, 20, 26]\n",
    "df = pd.DataFrame()\n",
    "df['x1'] = X1\n",
    "df['y1'] = y1\n",
    "X = df.drop('y1',axis =1)\n",
    "y = df['y1']"
   ]
  },
  {
   "cell_type": "code",
   "execution_count": 29,
   "metadata": {},
   "outputs": [],
   "source": [
    "from sklearn.model_selection import train_test_split\n",
    "X_train,X_test,y_train,y_test = train_test_split(X,y,test_size=0.3,random_state=42)"
   ]
  },
  {
   "cell_type": "code",
   "execution_count": 30,
   "metadata": {},
   "outputs": [],
   "source": [
    "from sklearn.preprocessing import StandardScaler\n",
    "scaler = StandardScaler()\n",
    "X_train_scaled = scaler.fit_transform(X_train)\n",
    "X_test_scaled = scaler.transform(X_test)"
   ]
  },
  {
   "cell_type": "code",
   "execution_count": 31,
   "metadata": {},
   "outputs": [
    {
     "data": {
      "text/plain": [
       "array([[ 1.22474487],\n",
       "       [ 0.        ],\n",
       "       [-1.22474487]])"
      ]
     },
     "execution_count": 31,
     "metadata": {},
     "output_type": "execute_result"
    }
   ],
   "source": [
    "X_train_scaled"
   ]
  },
  {
   "cell_type": "code",
   "execution_count": 32,
   "metadata": {},
   "outputs": [
    {
     "name": "stdout",
     "output_type": "stream",
     "text": [
      "Mean absolute error 5.333333333333329\n",
      "R2 Score -6.361111111111098\n"
     ]
    }
   ],
   "source": [
    "## Linerar Regression Model\n",
    "from sklearn.linear_model import LinearRegression\n",
    "from sklearn.metrics import mean_absolute_error\n",
    "from sklearn.metrics import r2_score\n",
    "linreg=LinearRegression()\n",
    "linreg.fit(X_train_scaled,y_train)\n",
    "y_pred=linreg.predict(X_test_scaled)\n",
    "mae=mean_absolute_error(y_test,y_pred)\n",
    "score=r2_score(y_test,y_pred)\n",
    "print(\"Mean absolute error\", mae)\n",
    "print(\"R2 Score\", score)"
   ]
  },
  {
   "cell_type": "code",
   "execution_count": null,
   "metadata": {},
   "outputs": [],
   "source": []
  }
 ],
 "metadata": {
  "kernelspec": {
   "display_name": "Python 3 (ipykernel)",
   "language": "python",
   "name": "python3"
  },
  "language_info": {
   "codemirror_mode": {
    "name": "ipython",
    "version": 3
   },
   "file_extension": ".py",
   "mimetype": "text/x-python",
   "name": "python",
   "nbconvert_exporter": "python",
   "pygments_lexer": "ipython3",
   "version": "3.10.8"
  }
 },
 "nbformat": 4,
 "nbformat_minor": 4
}
